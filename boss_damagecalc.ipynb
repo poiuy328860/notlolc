{
 "cells": [
  {
   "cell_type": "code",
   "execution_count": 40,
   "metadata": {},
   "outputs": [],
   "source": []
  },
  {
   "cell_type": "code",
   "execution_count": 27,
   "metadata": {},
   "outputs": [],
   "source": [
    "def Stat(Str, Dex, Int, Luk, Strp, Dexp, Intp, Lukp, Allstatp): #只算屬性，記得加後續\n",
    "    stat = 0\n",
    "    if number == 1:\n",
    "        if class1 == 87:\n",
    "            print('87234不給我公式嗚嗚嗚嗚')\n",
    "        else:\n",
    "            stat = 4*Str*(1 + Strp*0.01 + Allstatp*0.01) + Dex*(1+ Dexp*0.01 + Allstatp*0.01)\n",
    "    elif number == 2:\n",
    "        stat = Str*(1 + Strp*0.01 + Allstatp*0.01) + 4*Dex*(1+ Dexp*0.01 + Allstatp*0.01)\n",
    "    elif number == 3:\n",
    "        stat = 4*Int*(1 + Intp*0.01 + Allstatp*0.01) + Luk*(1+ Lukp*0.01 + Allstatp*0.01)\n",
    "    elif number == 4:\n",
    "        if class1 == 28:\n",
    "            stat = 4*Luk*(1+ Lukp*0.01 + Allstatp*0.01)+Dex*(1+ Dexp*0.01 + Allstatp*0.01)+Str*(1 + Strp*0.01 + Allstatp*0.01)\n",
    "        elif class1 == 30:\n",
    "            stat = 4*Luk*(1+ Lukp*0.01 + Allstatp*0.01)+Dex*(1+ Dexp*0.01 + Allstatp*0.01)+Str*(1 + Strp*0.01 + Allstatp*0.01)\n",
    "        else:\n",
    "            stat = 4*Luk*(1+ Lukp*0.01 + Allstatp*0.01)+Dex*(1+ Dexp*0.01 + Allstatp*0.01)\n",
    "    elif number == 5:\n",
    "        if class1 == 35:\n",
    "            stat = Str*(1 + Strp*0.01 + Allstatp*0.01) + 4*Dex*(1+ Dexp*0.01 + Allstatp*0.01)\n",
    "        elif class1 == 38:\n",
    "            stat = Str*(1 + Strp*0.01 + Allstatp*0.01) + 4*Dex*(1+ Dexp*0.01 + Allstatp*0.01)\n",
    "        elif class1 == 39:\n",
    "            stat = Str*(1 + Strp*0.01 + Allstatp*0.01) + 4*Dex*(1+ Dexp*0.01 + Allstatp*0.01)\n",
    "        else:\n",
    "            stat = 4*Str*(1 + Strp*0.01 + Allstatp*0.01) + Dex*(1+ Dexp*0.01 + Allstatp*0.01)\n",
    "    return stat;\n",
    "        \n",
    "        \n",
    "        "
   ]
  },
  {
   "cell_type": "code",
   "execution_count": 37,
   "metadata": {},
   "outputs": [],
   "source": [
    "def Damagestat(stat, Atk, Atkp, Bossp, Final):  #尚未加爆傷跟無視，記得加上\n",
    "    damagestat = stat*Atk*(1 + Atkp*0.01)*(1 + Bossp*0.01)*(1 + Final*0.01)\n",
    "    return damagestat;\n",
    "    "
   ]
  },
  {
   "cell_type": "code",
   "execution_count": 61,
   "metadata": {},
   "outputs": [],
   "source": [
    "def Bossdamage(damagestat, Ignorep, Critical, Bossdef, P2):\n",
    "    if P2 == 'y':\n",
    "        if (Bossdef*Ignorep-1)>0:\n",
    "            bossdamage = damagestat*(1 + Critical)*(Bossdef * Ignorep - 1)/2\n",
    "        else:\n",
    "            bossdamage = 0\n",
    "    elif P2 == 'Y':\n",
    "        if (Bossdef*Ignorep-1)>0:\n",
    "            bossdamage = damagestat*(1 + Critical)*(Bossdef * Ignorep - 1)/2\n",
    "        else:\n",
    "            bossdamage = 0\n",
    "    else:\n",
    "        if (Bossdef*Ignorep-1)>0:\n",
    "            bossdamage = damagestat*(1 + Critical)*(Bossdef * Ignorep - 1)\n",
    "        else:\n",
    "            bossdamage = 0\n",
    "    return bossdamage;"
   ]
  },
  {
   "cell_type": "code",
   "execution_count": 28,
   "metadata": {},
   "outputs": [
    {
     "name": "stdout",
     "output_type": "stream",
     "text": [
      "請輸入類別 劍:1 弓:2 法:3 賊:4 海:5 捷諾:6\n",
      "1\n"
     ]
    }
   ],
   "source": [
    "print('請輸入類別 劍:1 弓:2 法:3 賊:4 海:5 捷諾:6')\n",
    "number = int(input())"
   ]
  },
  {
   "cell_type": "code",
   "execution_count": 29,
   "metadata": {},
   "outputs": [
    {
     "name": "stdout",
     "output_type": "stream",
     "text": [
      "計算時一律以高武器係數的武器計算\n",
      "請輸入職業 英雄:1 聖騎:2 黑騎:3 劍豪:4 神子:5 惡殺:6 凱薩:7 聖魂:8 米哈:9 狂狼:10 惡復:87\n",
      "3\n"
     ]
    }
   ],
   "source": [
    "print('計算時一律以高武器係數的武器計算')\n",
    "class1=None\n",
    "if number == 1:\n",
    "    print('請輸入職業 英雄:1 聖騎:2 黑騎:3 劍豪:4 神子:5 惡殺:6 凱薩:7 聖魂:8 米哈:9 狂狼:10 惡復:87')\n",
    "    class1 = int(input())\n",
    "    \n",
    "elif number == 2:\n",
    "    print('請輸入職業 箭神:11 神射:12 開拓:13 狂豹:14 破風:15 精靈:16')\n",
    "    class1 = int(input())\n",
    "elif number == 3:\n",
    "    print('請輸入職業 火毒:17 冰雷:18 主教:19 陰陽:20 幻獸:21 煉獄:22 烈焰:23 凱內:24 龍魔:25 夜光:26 伊利恩:27')\n",
    "    class1 = int(input())\n",
    "elif number == 4:\n",
    "    print('請輸入職業 神偷:28 夜使:29 影武:30 卡蒂娜:31 幻獸:32 暗夜:33 幻影:34')#神偷 影武\n",
    "    class1 = int(input())\n",
    "elif number == 5:\n",
    "    print('請輸入職業 槍神:35 拳霸:36 重砲:37 蒼龍:38 機甲:39 爆拳:40 閃雷:41 隱月:42 亞克:43')\n",
    "    class1 = int(input())    \n",
    "elif number == 6:\n",
    "    class1 = 123\n",
    "else:\n",
    "    print('爆ㄍㄌㄌㄎ')"
   ]
  },
  {
   "cell_type": "code",
   "execution_count": 30,
   "metadata": {},
   "outputs": [
    {
     "name": "stdout",
     "output_type": "stream",
     "text": [
      "請輸入職業各項數值 無則寫0 不用打%進輸入欄位\n",
      "請輸入原始Str值\n",
      "10\n",
      "請輸入原始Dex值\n",
      "10\n",
      "請輸入Str%\n",
      "100\n",
      "請輸入Dex%\n",
      "100\n",
      "請輸入Allstat%\n",
      "0\n",
      "請輸入ATK值\n",
      "100\n",
      "請輸入ATK%\n",
      "0\n",
      "請輸入B+總\n",
      "0\n",
      "請輸入無視%\n",
      "0\n",
      "請輸入終傷%\n",
      "0\n",
      "請輸入爆傷%\n",
      "0\n"
     ]
    }
   ],
   "source": [
    "    Str = 0 \n",
    "    Dex = 0 \n",
    "    Int = 0 \n",
    "    Luk = 0 \n",
    "    Strp = 0 \n",
    "    Dexp = 0 \n",
    "    Intp = 0 \n",
    "    Lukp = 0 \n",
    "    Allstatp = 0\n",
    "\n",
    "    if number == 1:\n",
    "        if class1 == 87:\n",
    "            print('87234不給我公式嗚嗚嗚嗚')\n",
    "        else:\n",
    "            print('請輸入職業各項數值 無則寫0 不用打%進輸入欄位')\n",
    "            print('請輸入原始Str值')\n",
    "            Str = int(input())\n",
    "            print('請輸入原始Dex值')\n",
    "            Dex = int(input())\n",
    "            print('請輸入Str%')\n",
    "            Strp = int(input())\n",
    "            print('請輸入Dex%')\n",
    "            Dexp = int(input())\n",
    "            print('請輸入Allstat%')\n",
    "            Allstatp = int(input())\n",
    "            print('請輸入ATK值')\n",
    "            Atk = int(input())\n",
    "            print('請輸入ATK%')\n",
    "            Atkp = int(input())            \n",
    "            print('請輸入B+總')\n",
    "            Bossp = int(input())\n",
    "            print('請輸入無視%')\n",
    "            Ignorep = int(input())\n",
    "            print('請輸入終傷%')\n",
    "            Final = int(input()) \n",
    "            print('請輸入爆傷%')\n",
    "            Critical = int(input())\n",
    "    elif number == 2:\n",
    "        print('請輸入職業各項數值 無則寫0 不用打%進輸入欄位')\n",
    "        print('請輸入原始Str值')\n",
    "        Str = int(input())\n",
    "        print('請輸入原始Dex值')\n",
    "        Dex = int(input())\n",
    "        print('請輸入Str%')            \n",
    "        Strp = int(input())\n",
    "        print('請輸入Dex%')\n",
    "        Dexp = int(input())\n",
    "        print('請輸入Allstat%')\n",
    "        Allstatp = int(input())\n",
    "        print('請輸入ATK值')\n",
    "        Atk = int(input())\n",
    "        print('請輸入ATK%')\n",
    "        Atkp = int(input())        \n",
    "        print('請輸入B+總')\n",
    "        Bossp = int(input())\n",
    "        print('請輸入無視%')\n",
    "        Ignorep = int(input())\n",
    "        print('請輸入終傷%')\n",
    "        Final = int(input())             \n",
    "        print('請輸入爆傷%')\n",
    "        Critical = int(input())   \n",
    "    elif number == 3:\n",
    "        print('請輸入職業各項數值 無則寫0 不用打%進輸入欄位')\n",
    "        print('請輸入原始Int值')\n",
    "        Int = int(input())\n",
    "        print('請輸入原始Luk值')\n",
    "        Luk = int(input())\n",
    "        print('請輸入Int%')\n",
    "        Intp = int(input())\n",
    "        print('請輸入Luk%')\n",
    "        Lukp = int(input())\n",
    "        print('請輸入Allstat%')\n",
    "        Allstatp = int(input())\n",
    "        print('請輸入ATK值')\n",
    "        Atk = int(input())\n",
    "        print('請輸入ATK%')\n",
    "        Atkp = int(input())\n",
    "        print('請輸入B+總')\n",
    "        Bossp = int(input())\n",
    "        print('請輸入無視%')\n",
    "        Ignorep = int(input())\n",
    "        print('請輸入終傷%')\n",
    "        Final = int(input())                        \n",
    "        print('請輸入爆傷%')\n",
    "        Critical = int(input())\n",
    "    elif number == 4:\n",
    "        if class1 == 28:\n",
    "            print('請輸入職業各項數值 無則寫0 不用打%進輸入欄位')\n",
    "            print('請輸入原始Str值')\n",
    "            Str = int(input())\n",
    "            print('請輸入原始Dex值')\n",
    "            Dex = int(input())\n",
    "            print('請輸入原始Luk值')\n",
    "            Luk = int(input())\n",
    "            print('請輸入Str%')\n",
    "            Strp = int(input())\n",
    "            print('請輸入Dex%')\n",
    "            Dexp = int(input())\n",
    "            print('請輸入Luk%')\n",
    "            Lukp = int(input())\n",
    "            print('請輸入Allstat%')\n",
    "            Allstatp = int(input())\n",
    "            print('請輸入ATK值')\n",
    "            Atk = int(input())\n",
    "            print('請輸入ATK%')\n",
    "            Atkp = int(input())\n",
    "            print('請輸入B+總')\n",
    "            Bossp = int(input())\n",
    "            print('請輸入無視%')\n",
    "            Ignorep = int(input())\n",
    "            print('請輸入終傷%')\n",
    "            Final = int(input())                        \n",
    "            print('請輸入爆傷%')\n",
    "            Critical = int(input())\n",
    "        elif class1 == 30:\n",
    "            print('請輸入職業各項數值 無則寫0 不用打%進輸入欄位')\n",
    "            print('請輸入原始Str值')\n",
    "            Str = int(input())\n",
    "            print('請輸入原始Dex值')\n",
    "            Dex = int(input())\n",
    "            print('請輸入原始Luk值')\n",
    "            Luk = int(input())\n",
    "            print('請輸入Str%')\n",
    "            Strp = int(input())\n",
    "            print('請輸入Dex%')\n",
    "            Dexp = int(input())\n",
    "            print('請輸入Luk%')\n",
    "            Lukp = int(input())\n",
    "            print('請輸入Allstat%')\n",
    "            Allstatp = int(input())\n",
    "            print('請輸入ATK值')\n",
    "            Atk = int(input())\n",
    "            print('請輸入ATK%')\n",
    "            Atkp = int(input())      \n",
    "            print('請輸入B+總')\n",
    "            Bossp = int(input())\n",
    "            print('請輸入無視%')\n",
    "            Ignorep = int(input())\n",
    "            print('請輸入終傷%')\n",
    "            Final = int(input())                     \n",
    "            print('請輸入爆傷%')\n",
    "            Critical = int(input())   \n",
    "        else:\n",
    "            print('請輸入職業各項數值 無則寫0 不用打%進輸入欄位')\n",
    "            print('請輸入原始Dex值')\n",
    "            Dex = int(input())\n",
    "            print('請輸入原始Luk值')\n",
    "            Luk = int(input())\n",
    "            print('請輸入Dex%')\n",
    "            Dexp = int(input())\n",
    "            print('請輸入Luk%')\n",
    "            Lukp = int(input())\n",
    "            print('請輸入Allstat%')\n",
    "            Allstatp = int(input())\n",
    "            print('請輸入ATK值')\n",
    "            Atk = int(input())\n",
    "            print('請輸入ATK%')\n",
    "            Atkp = int(input())\n",
    "            print('請輸入B+總')\n",
    "            Bossp = int(input())\n",
    "            print('請輸入無視%')\n",
    "            Ignorep = int(input())\n",
    "            print('請輸入終傷%')\n",
    "            Final = int(input())               \n",
    "            print('請輸入爆傷%')\n",
    "            Critical = int(input())         \n",
    "    elif number == 5:\n",
    "        if class1 == 35:\n",
    "            print('請輸入職業各項數值 無則寫0 不用打%進輸入欄位')\n",
    "            print('請輸入原始Str值')\n",
    "            Str = int(input())\n",
    "            print('請輸入原始Dex值')\n",
    "            Dex = int(input())\n",
    "            print('請輸入Str%')\n",
    "            Strp = int(input())\n",
    "            print('請輸入Dex%')\n",
    "            Dexp = int(input())\n",
    "            print('請輸入Allstat%')\n",
    "            Allstatp = int(input())\n",
    "            print('請輸入ATK值')\n",
    "            Atk = int(input())\n",
    "            print('請輸入ATK%')\n",
    "            Atkp = int(input())\n",
    "            print('請輸入B+總')\n",
    "            Bossp = int(input())\n",
    "            print('請輸入無視%')\n",
    "            Ignorep = int(input())\n",
    "            print('請輸入終傷%')\n",
    "            Final = int(input())                        \n",
    "            print('請輸入爆傷%')\n",
    "            Critical = int(input())\n",
    "        elif class1 == 38:\n",
    "            print('請輸入職業各項數值 無則寫0 不用打%進輸入欄位')\n",
    "            print('請輸入原始Str值')\n",
    "            Str = int(input())\n",
    "            print('請輸入原始Dex值')\n",
    "            Dex = int(input())\n",
    "            print('請輸入Str%')\n",
    "            Strp = int(input())\n",
    "            print('請輸入Dex%')\n",
    "            Dexp = int(input())\n",
    "            print('請輸入Allstat%')\n",
    "            Allstatp = int(input())\n",
    "            print('請輸入ATK值')\n",
    "            Atk = int(input())\n",
    "            print('請輸入ATK%')\n",
    "            Atkp = int(input())\n",
    "            print('請輸入B+總')\n",
    "            Bossp = int(input())\n",
    "            print('請輸入無視%')\n",
    "            Ignorep = int(input())\n",
    "            print('請輸入終傷%')\n",
    "            Final = int(input())              \n",
    "            print('請輸入爆傷%')\n",
    "            Critical = int(input())\n",
    "        elif class1 == 39:\n",
    "            print('請輸入職業各項數值 無則寫0 不用打%進輸入欄位')\n",
    "            print('請輸入原始Str值')\n",
    "            Str = int(input())\n",
    "            print('請輸入原始Dex值')\n",
    "            Dex = int(input())\n",
    "            print('請輸入Str%')\n",
    "            Strp = int(input())\n",
    "            print('請輸入Dex%')\n",
    "            Dexp = int(input())\n",
    "            print('請輸入Allstat%')\n",
    "            Allstatp = int(input())\n",
    "            print('請輸入ATK值')\n",
    "            Atk = int(input())\n",
    "            print('請輸入ATK%')\n",
    "            Atkp = int(input())\n",
    "            print('請輸入B+總')\n",
    "            Bossp = int(input())\n",
    "            print('請輸入無視%')\n",
    "            Ignorep = int(input())\n",
    "            print('請輸入終傷%')\n",
    "            Final = int(input())   \n",
    "            print('請輸入爆傷%')\n",
    "            Critical = int(input())            \n",
    "        else:\n",
    "            print('請輸入職業各項數值 無則寫0 不用打%進輸入欄位')\n",
    "            print('請輸入原始Str值')\n",
    "            Str = int(input())\n",
    "            print('請輸入原始Dex值')\n",
    "            Dex = int(input())\n",
    "            print('請輸入Str%')\n",
    "            Strp = int(input())\n",
    "            print('請輸入Dex%')\n",
    "            Dexp = int(input())\n",
    "            print('請輸入Allstat%')\n",
    "            Allstatp = int(input())\n",
    "            print('請輸入ATK值')\n",
    "            Atk = int(input())\n",
    "            print('請輸入ATK%')\n",
    "            Atkp = int(input())\n",
    "            print('請輸入B+總')\n",
    "            Bossp = int(input())\n",
    "            print('請輸入無視%')\n",
    "            Ignorep = int(input())\n",
    "            print('請輸入終傷%')\n",
    "            Final = int(input())\n",
    "            print('請輸入爆傷%')\n",
    "            Critical = int(input())\n",
    "        \n",
    "        "
   ]
  },
  {
   "cell_type": "code",
   "execution_count": 31,
   "metadata": {},
   "outputs": [],
   "source": [
    "stat = Stat(Str, Dex, Int, Luk, Strp, Dexp, Intp, Lukp, Allstatp)"
   ]
  },
  {
   "cell_type": "code",
   "execution_count": 41,
   "metadata": {},
   "outputs": [],
   "source": [
    "damagestat = Damagestat(stat, Atk, Atkp, Bossp, Final)"
   ]
  },
  {
   "cell_type": "code",
   "execution_count": 42,
   "metadata": {},
   "outputs": [
    {
     "data": {
      "text/plain": [
       "100.0"
      ]
     },
     "execution_count": 42,
     "metadata": {},
     "output_type": "execute_result"
    }
   ],
   "source": [
    "stat"
   ]
  },
  {
   "cell_type": "code",
   "execution_count": 44,
   "metadata": {},
   "outputs": [
    {
     "name": "stdout",
     "output_type": "stream",
     "text": [
      "你打王表攻為:\n",
      "10000.0\n"
     ]
    }
   ],
   "source": [
    "print('你打王表攻為:')\n",
    "print(damagestat)"
   ]
  },
  {
   "cell_type": "code",
   "execution_count": 69,
   "metadata": {},
   "outputs": [
    {
     "name": "stdout",
     "output_type": "stream",
     "text": [
      "是否要計算你打王的傷害(Y/N)\n",
      "y\n"
     ]
    }
   ],
   "source": [
    "print('是否要計算你打王的傷害(Y/N)')\n",
    "x1 = input()"
   ]
  },
  {
   "cell_type": "code",
   "execution_count": 70,
   "metadata": {},
   "outputs": [
    {
     "name": "stdout",
     "output_type": "stream",
     "text": [
      "你打的王防禦為多少\n",
      "300\n",
      "你打的王有沒有P2屬性 (Y/N)\n",
      "y\n"
     ]
    }
   ],
   "source": [
    "if x1 == 'y':\n",
    "    print('你打的王防禦為多少')\n",
    "    Bossdef = int(input())\n",
    "    print('你打的王有沒有P2屬性 (Y/N)')\n",
    "    P2 = input()\n",
    "elif x1 == 'Y':\n",
    "    print('你打的王防禦為多少')\n",
    "    Bossdef = int(input())\n",
    "    print('你打的王有沒有P2屬性 (Y/N)')\n",
    "    P2 = input()\n"
   ]
  },
  {
   "cell_type": "code",
   "execution_count": 71,
   "metadata": {},
   "outputs": [],
   "source": [
    "bossdamage = Bossdamage(damagestat, Ignorep, Critical, Bossdef, P2)"
   ]
  },
  {
   "cell_type": "code",
   "execution_count": 73,
   "metadata": {},
   "outputs": [
    {
     "name": "stdout",
     "output_type": "stream",
     "text": [
      "你打王 普攻的傷害為\n",
      "0\n"
     ]
    }
   ],
   "source": [
    "print('你打王 普攻的傷害為')\n",
    "print(bossdamage)"
   ]
  },
  {
   "cell_type": "code",
   "execution_count": null,
   "metadata": {},
   "outputs": [],
   "source": []
  }
 ],
 "metadata": {
  "kernelspec": {
   "display_name": "Python 3",
   "language": "python",
   "name": "python3"
  },
  "language_info": {
   "codemirror_mode": {
    "name": "ipython",
    "version": 3
   },
   "file_extension": ".py",
   "mimetype": "text/x-python",
   "name": "python",
   "nbconvert_exporter": "python",
   "pygments_lexer": "ipython3",
   "version": "3.7.4"
  }
 },
 "nbformat": 4,
 "nbformat_minor": 2
}
